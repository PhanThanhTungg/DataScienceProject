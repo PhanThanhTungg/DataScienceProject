{
 "cells": [
  {
   "cell_type": "code",
   "execution_count": 1,
   "metadata": {},
   "outputs": [],
   "source": [
    "from scipy import stats\n",
    "import pandas as pd\n",
    "from sklearn.model_selection import train_test_split\n",
    "from sklearn.impute import SimpleImputer\n",
    "from sklearn.preprocessing import StandardScaler, OrdinalEncoder,OneHotEncoder\n",
    "from sklearn.pipeline import Pipeline\n",
    "from sklearn.compose import ColumnTransformer\n",
    "from sklearn.metrics import mean_absolute_error, mean_squared_error, r2_score\n",
    "import lazypredict\n",
    "from lazypredict.Supervised import LazyRegressor\n",
    "from sklearn.model_selection import GridSearchCV\n",
    "\n"
   ]
  },
  {
   "cell_type": "markdown",
   "metadata": {},
   "source": [
    "Đọc và chia data"
   ]
  },
  {
   "cell_type": "code",
   "execution_count": 2,
   "metadata": {},
   "outputs": [
    {
     "data": {
      "text/html": [
       "<div>\n",
       "<style scoped>\n",
       "    .dataframe tbody tr th:only-of-type {\n",
       "        vertical-align: middle;\n",
       "    }\n",
       "\n",
       "    .dataframe tbody tr th {\n",
       "        vertical-align: top;\n",
       "    }\n",
       "\n",
       "    .dataframe thead th {\n",
       "        text-align: right;\n",
       "    }\n",
       "</style>\n",
       "<table border=\"1\" class=\"dataframe\">\n",
       "  <thead>\n",
       "    <tr style=\"text-align: right;\">\n",
       "      <th></th>\n",
       "      <th>chieuDai</th>\n",
       "      <th>chieuNgang</th>\n",
       "      <th>dienTich</th>\n",
       "      <th>Gia/m2</th>\n",
       "      <th>Phongngu</th>\n",
       "      <th>SoTang</th>\n",
       "      <th>PhongTam</th>\n",
       "      <th>Loai</th>\n",
       "      <th>GiayTo</th>\n",
       "      <th>TinhTrangNoiThat</th>\n",
       "      <th>QuanHuyen</th>\n",
       "    </tr>\n",
       "  </thead>\n",
       "  <tbody>\n",
       "    <tr>\n",
       "      <th>0</th>\n",
       "      <td>20.00</td>\n",
       "      <td>5.00</td>\n",
       "      <td>100.00</td>\n",
       "      <td>604.17</td>\n",
       "      <td>3</td>\n",
       "      <td>1.00</td>\n",
       "      <td>3.00</td>\n",
       "      <td>nhà ngõ, hẻm</td>\n",
       "      <td>đã có sổ</td>\n",
       "      <td>nội thất đầy đủ</td>\n",
       "      <td>quận 8</td>\n",
       "    </tr>\n",
       "    <tr>\n",
       "      <th>1</th>\n",
       "      <td>16.00</td>\n",
       "      <td>5.00</td>\n",
       "      <td>80.00</td>\n",
       "      <td>1718.75</td>\n",
       "      <td>2</td>\n",
       "      <td>1.00</td>\n",
       "      <td>2.00</td>\n",
       "      <td>nhà ngõ, hẻm</td>\n",
       "      <td>đã có sổ</td>\n",
       "      <td>NaN</td>\n",
       "      <td>quận 12</td>\n",
       "    </tr>\n",
       "    <tr>\n",
       "      <th>2</th>\n",
       "      <td>15.00</td>\n",
       "      <td>8.00</td>\n",
       "      <td>117.40</td>\n",
       "      <td>4542.92</td>\n",
       "      <td>8</td>\n",
       "      <td>5.00</td>\n",
       "      <td>7.00</td>\n",
       "      <td>nhà biệt thự</td>\n",
       "      <td>đã có sổ</td>\n",
       "      <td>hoàn thiện cơ bản</td>\n",
       "      <td>quận gò vấp</td>\n",
       "    </tr>\n",
       "    <tr>\n",
       "      <th>3</th>\n",
       "      <td>32.00</td>\n",
       "      <td>3.20</td>\n",
       "      <td>102.00</td>\n",
       "      <td>2982.08</td>\n",
       "      <td>3</td>\n",
       "      <td>2.00</td>\n",
       "      <td>2.00</td>\n",
       "      <td>nhà mặt phố, mặt tiền</td>\n",
       "      <td>đã có sổ</td>\n",
       "      <td>nội thất đầy đủ</td>\n",
       "      <td>quận tân phú</td>\n",
       "    </tr>\n",
       "    <tr>\n",
       "      <th>4</th>\n",
       "      <td>4.00</td>\n",
       "      <td>6.00</td>\n",
       "      <td>26.00</td>\n",
       "      <td>4295.00</td>\n",
       "      <td>2</td>\n",
       "      <td>2.00</td>\n",
       "      <td>3.00</td>\n",
       "      <td>nhà ngõ, hẻm</td>\n",
       "      <td>đã có sổ</td>\n",
       "      <td>nội thất đầy đủ</td>\n",
       "      <td>quận phú nhuận</td>\n",
       "    </tr>\n",
       "  </tbody>\n",
       "</table>\n",
       "</div>"
      ],
      "text/plain": [
       "   chieuDai  chieuNgang  dienTich  Gia/m2  Phongngu  SoTang  PhongTam  \\\n",
       "0     20.00        5.00    100.00  604.17         3    1.00      3.00   \n",
       "1     16.00        5.00     80.00 1718.75         2    1.00      2.00   \n",
       "2     15.00        8.00    117.40 4542.92         8    5.00      7.00   \n",
       "3     32.00        3.20    102.00 2982.08         3    2.00      2.00   \n",
       "4      4.00        6.00     26.00 4295.00         2    2.00      3.00   \n",
       "\n",
       "                    Loai    GiayTo   TinhTrangNoiThat       QuanHuyen  \n",
       "0           nhà ngõ, hẻm  đã có sổ    nội thất đầy đủ          quận 8  \n",
       "1           nhà ngõ, hẻm  đã có sổ                NaN         quận 12  \n",
       "2           nhà biệt thự  đã có sổ  hoàn thiện cơ bản     quận gò vấp  \n",
       "3  nhà mặt phố, mặt tiền  đã có sổ    nội thất đầy đủ    quận tân phú  \n",
       "4           nhà ngõ, hẻm  đã có sổ    nội thất đầy đủ  quận phú nhuận  "
      ]
     },
     "execution_count": 2,
     "metadata": {},
     "output_type": "execute_result"
    }
   ],
   "source": [
    "data = pd.read_csv(\"DataAfterCleaning.csv\", delimiter=\",\")\n",
    "data.head()"
   ]
  },
  {
   "cell_type": "code",
   "execution_count": 3,
   "metadata": {},
   "outputs": [
    {
     "data": {
      "text/plain": [
       "array([ 1.,  5.,  2.,  3.,  4., 11.,  6., 22., 23., 12.,  7., 13., 15.,\n",
       "        9.,  8.])"
      ]
     },
     "execution_count": 3,
     "metadata": {},
     "output_type": "execute_result"
    }
   ],
   "source": [
    "data.SoTang.unique()"
   ]
  },
  {
   "cell_type": "code",
   "execution_count": 4,
   "metadata": {},
   "outputs": [
    {
     "name": "stdout",
     "output_type": "stream",
     "text": [
      "<class 'pandas.core.frame.DataFrame'>\n",
      "RangeIndex: 13432 entries, 0 to 13431\n",
      "Data columns (total 11 columns):\n",
      " #   Column            Non-Null Count  Dtype  \n",
      "---  ------            --------------  -----  \n",
      " 0   chieuDai          13432 non-null  float64\n",
      " 1   chieuNgang        13432 non-null  float64\n",
      " 2   dienTich          13432 non-null  float64\n",
      " 3   Gia/m2            13432 non-null  float64\n",
      " 4   Phongngu          13432 non-null  int64  \n",
      " 5   SoTang            13432 non-null  float64\n",
      " 6   PhongTam          13432 non-null  float64\n",
      " 7   Loai              13431 non-null  object \n",
      " 8   GiayTo            13408 non-null  object \n",
      " 9   TinhTrangNoiThat  9001 non-null   object \n",
      " 10  QuanHuyen         13432 non-null  object \n",
      "dtypes: float64(6), int64(1), object(4)\n",
      "memory usage: 1.1+ MB\n"
     ]
    }
   ],
   "source": [
    "data.info()"
   ]
  },
  {
   "cell_type": "code",
   "execution_count": 5,
   "metadata": {},
   "outputs": [],
   "source": [
    "target = \"Gia/m2\"\n",
    "x = data.drop(target, axis=1)\n",
    "y = data[target]\n",
    "x_train, x_test, y_train, y_test = train_test_split(x, y, train_size=0.8, random_state=1609)"
   ]
  },
  {
   "cell_type": "code",
   "execution_count": 6,
   "metadata": {},
   "outputs": [
    {
     "name": "stdout",
     "output_type": "stream",
     "text": [
      "train.shape:  (10745, 10)\n",
      "test.shape:  (2687, 10)\n"
     ]
    }
   ],
   "source": [
    "print(\"train.shape: \",x_train.shape)\n",
    "print(\"test.shape: \",x_test.shape)"
   ]
  },
  {
   "cell_type": "markdown",
   "metadata": {},
   "source": [
    "Xem unique của từng cột categorical"
   ]
  },
  {
   "cell_type": "code",
   "execution_count": 7,
   "metadata": {},
   "outputs": [
    {
     "name": "stdout",
     "output_type": "stream",
     "text": [
      "uniqueLoai:\n"
     ]
    },
    {
     "data": {
      "text/plain": [
       "array(['nhà ngõ, hẻm', 'nhà mặt phố, mặt tiền', 'nhà phố liền kề',\n",
       "       'nhà biệt thự', nan], dtype=object)"
      ]
     },
     "execution_count": 7,
     "metadata": {},
     "output_type": "execute_result"
    }
   ],
   "source": [
    "print(\"uniqueLoai:\")\n",
    "x_train.Loai.unique()"
   ]
  },
  {
   "cell_type": "code",
   "execution_count": 8,
   "metadata": {},
   "outputs": [
    {
     "name": "stdout",
     "output_type": "stream",
     "text": [
      "uniqueGiayTo:\n"
     ]
    },
    {
     "data": {
      "text/plain": [
       "array(['đã có sổ', 'giấy tờ viết tay', 'không có sổ', 'đang chờ sổ',\n",
       "       'sổ chung / công chứng vi bằng', nan], dtype=object)"
      ]
     },
     "execution_count": 8,
     "metadata": {},
     "output_type": "execute_result"
    }
   ],
   "source": [
    "print(\"uniqueGiayTo:\")\n",
    "x_train.GiayTo.unique()"
   ]
  },
  {
   "cell_type": "code",
   "execution_count": 9,
   "metadata": {},
   "outputs": [
    {
     "name": "stdout",
     "output_type": "stream",
     "text": [
      "uniqueTinhTrangNoiThat:\n"
     ]
    },
    {
     "data": {
      "text/plain": [
       "array(['nội thất đầy đủ', 'bàn giao thô', nan, 'hoàn thiện cơ bản',\n",
       "       'nội thất cao cấp'], dtype=object)"
      ]
     },
     "execution_count": 9,
     "metadata": {},
     "output_type": "execute_result"
    }
   ],
   "source": [
    "print(\"uniqueTinhTrangNoiThat:\")\n",
    "x_train.TinhTrangNoiThat.unique()"
   ]
  },
  {
   "cell_type": "code",
   "execution_count": 10,
   "metadata": {},
   "outputs": [
    {
     "name": "stdout",
     "output_type": "stream",
     "text": [
      "uniqueQuanHuyen:\n"
     ]
    },
    {
     "data": {
      "text/plain": [
       "array(['quận 12', 'huyện bình chánh', 'quận 6', 'quận 1', 'quận 10',\n",
       "       'quận gò vấp', 'quận bình tân', 'quận phú nhuận', 'quận 8',\n",
       "       'quận 7', 'quận tân bình', 'huyện nhà bè', 'huyện hóc môn',\n",
       "       'quận bình thạnh', 'quận 11', 'quận 5', 'quận tân phú', 'quận 3',\n",
       "       'quận 4', 'huyện củ chi', 'huyện cần giờ'], dtype=object)"
      ]
     },
     "execution_count": 10,
     "metadata": {},
     "output_type": "execute_result"
    }
   ],
   "source": [
    "print(\"uniqueQuanHuyen:\")\n",
    "x_train.QuanHuyen.unique()"
   ]
  },
  {
   "cell_type": "code",
   "execution_count": 11,
   "metadata": {},
   "outputs": [],
   "source": [
    "## lấy ra list quận huyện theo thứ tự tăng dần của giá\n",
    "df = pd.DataFrame(data)\n",
    "\n",
    "def sorted_districts(col):\n",
    "    table = df.groupby(col)['Gia/m2'].mean().reset_index()\n",
    "  \n",
    "    sorted_table = table.sort_values(by='Gia/m2')\n",
    "    sorted_districts = sorted_table[col].tolist()\n",
    "    return sorted_districts\n",
    "\n",
    "list_sorted_districts = sorted_districts('QuanHuyen')"
   ]
  },
  {
   "cell_type": "code",
   "execution_count": 12,
   "metadata": {},
   "outputs": [
    {
     "name": "stdout",
     "output_type": "stream",
     "text": [
      "['huyện cần giờ', 'huyện củ chi', 'huyện bình chánh', 'huyện hóc môn']\n",
      "['huyện nhà bè', 'quận 12', 'quận bình tân', 'quận 8']\n",
      "['quận tân phú', 'quận gò vấp', 'quận 7', 'quận 6']\n",
      "['quận bình thạnh', 'quận 4', 'quận tân bình', 'quận 11']\n",
      "['quận phú nhuận', 'quận 10', 'quận 5', 'quận 3']\n",
      "['quận 1']\n"
     ]
    }
   ],
   "source": [
    "for i in range(0, len(list_sorted_districts), 4):\n",
    "    print(list_sorted_districts[i:i+4])"
   ]
  },
  {
   "cell_type": "markdown",
   "metadata": {},
   "source": [
    "Tiền xử lý lần 2"
   ]
  },
  {
   "cell_type": "code",
   "execution_count": 13,
   "metadata": {},
   "outputs": [],
   "source": [
    "Loai_values = [\"unknown\",'nhà ngõ, hẻm', 'nhà phố liền kề', 'nhà mặt phố, mặt tiền', 'nhà biệt thự']\n",
    "GiayTo_values = [\"unknown\",'giấy tờ viết tay', 'không có sổ', 'đang chờ sổ', \n",
    "            'sổ chung / công chứng vi bằng', 'đã có sổ']\n",
    "TinhTrangNoiThat_values = [\"unknown\",'bàn giao thô', 'hoàn thiện cơ bản', 'nội thất đầy đủ', 'nội thất cao cấp']\n",
    "QuanHuyen_values = list_sorted_districts\n",
    "\n",
    "ord_transformer = Pipeline(steps=[\n",
    "    (\"imputer\", SimpleImputer(strategy=\"constant\", fill_value=\"unknown\")),\n",
    "    (\"encoder\", OrdinalEncoder(categories=[Loai_values,GiayTo_values,TinhTrangNoiThat_values,QuanHuyen_values]))\n",
    "])\n",
    "\n",
    "num_transformer = Pipeline(steps=[\n",
    "    (\"imputer\", SimpleImputer(strategy=\"median\")),\n",
    "    (\"scaler\", StandardScaler())\n",
    "])\n",
    "preprocessor = ColumnTransformer(transformers=[\n",
    "    (\"num_features\", num_transformer, [\"chieuDai\", \"chieuNgang\",\"dienTich\",\"Phongngu\",\"SoTang\",\"PhongTam\"]),\n",
    "    (\"ordinal_features\", ord_transformer, [\"Loai\",\"GiayTo\",\"TinhTrangNoiThat\",\"QuanHuyen\"]),\n",
    "])\n",
    "\n"
   ]
  },
  {
   "cell_type": "code",
   "execution_count": 14,
   "metadata": {},
   "outputs": [
    {
     "name": "stderr",
     "output_type": "stream",
     "text": [
      "100%|██████████| 42/42 [00:54<00:00,  1.30s/it]"
     ]
    },
    {
     "name": "stdout",
     "output_type": "stream",
     "text": [
      "[LightGBM] [Info] Auto-choosing row-wise multi-threading, the overhead of testing was 0.000647 seconds.\n",
      "You can set `force_row_wise=true` to remove the overhead.\n",
      "And if memory is not enough, you can set `force_col_wise=true`.\n",
      "[LightGBM] [Info] Total Bins 785\n",
      "[LightGBM] [Info] Number of data points in the train set: 10745, number of used features: 10\n",
      "[LightGBM] [Info] Start training from score 4447.933647\n",
      "                               Adjusted R-Squared  R-Squared      RMSE  \\\n",
      "Model                                                                    \n",
      "LGBMRegressor                                0.71       0.71   1547.59   \n",
      "XGBRegressor                                 0.71       0.71   1553.67   \n",
      "HistGradientBoostingRegressor                0.71       0.71   1554.45   \n",
      "RandomForestRegressor                        0.70       0.70   1589.31   \n",
      "GradientBoostingRegressor                    0.69       0.69   1598.82   \n",
      "ExtraTreesRegressor                          0.67       0.67   1652.69   \n",
      "BaggingRegressor                             0.66       0.66   1688.00   \n",
      "KNeighborsRegressor                          0.60       0.60   1833.00   \n",
      "PoissonRegressor                             0.52       0.53   1988.19   \n",
      "MLPRegressor                                 0.52       0.52   1993.25   \n",
      "LassoLarsIC                                  0.52       0.52   2006.12   \n",
      "Lars                                         0.52       0.52   2006.12   \n",
      "LinearRegression                             0.52       0.52   2006.12   \n",
      "TransformedTargetRegressor                   0.52       0.52   2006.12   \n",
      "Ridge                                        0.52       0.52   2006.12   \n",
      "LassoLars                                    0.52       0.52   2006.15   \n",
      "Lasso                                        0.52       0.52   2006.15   \n",
      "RidgeCV                                      0.52       0.52   2006.18   \n",
      "BayesianRidge                                0.52       0.52   2006.18   \n",
      "SGDRegressor                                 0.52       0.52   2006.59   \n",
      "LarsCV                                       0.51       0.52   2007.38   \n",
      "LassoLarsCV                                  0.51       0.52   2007.38   \n",
      "LassoCV                                      0.51       0.52   2007.57   \n",
      "OrthogonalMatchingPursuitCV                  0.51       0.51   2016.12   \n",
      "HuberRegressor                               0.50       0.50   2046.92   \n",
      "PassiveAggressiveRegressor                   0.49       0.49   2057.84   \n",
      "ElasticNet                                   0.46       0.47   2110.86   \n",
      "DecisionTreeRegressor                        0.45       0.46   2129.39   \n",
      "ExtraTreeRegressor                           0.43       0.43   2172.15   \n",
      "AdaBoostRegressor                            0.41       0.41   2215.95   \n",
      "TweedieRegressor                             0.41       0.41   2218.60   \n",
      "GammaRegressor                               0.40       0.41   2226.93   \n",
      "OrthogonalMatchingPursuit                    0.40       0.40   2236.04   \n",
      "LinearSVR                                    0.37       0.37   2292.28   \n",
      "ElasticNetCV                                 0.34       0.34   2339.98   \n",
      "SVR                                          0.12       0.13   2699.60   \n",
      "NuSVR                                        0.11       0.11   2720.22   \n",
      "DummyRegressor                              -0.00      -0.00   2887.34   \n",
      "QuantileRegressor                           -0.03      -0.03   2925.37   \n",
      "KernelRidge                                 -1.88      -1.87   4888.44   \n",
      "RANSACRegressor                             -2.76      -2.75   5589.28   \n",
      "GaussianProcessRegressor                 -4538.73   -4521.83 194173.42   \n",
      "\n",
      "                               Time Taken  \n",
      "Model                                      \n",
      "LGBMRegressor                        0.12  \n",
      "XGBRegressor                         0.17  \n",
      "HistGradientBoostingRegressor        0.26  \n",
      "RandomForestRegressor                2.88  \n",
      "GradientBoostingRegressor            0.79  \n",
      "ExtraTreesRegressor                  2.06  \n",
      "BaggingRegressor                     0.34  \n",
      "KNeighborsRegressor                  0.18  \n",
      "PoissonRegressor                     0.01  \n",
      "MLPRegressor                         3.15  \n",
      "LassoLarsIC                          0.02  \n",
      "Lars                                 0.02  \n",
      "LinearRegression                     0.01  \n",
      "TransformedTargetRegressor           0.02  \n",
      "Ridge                                0.01  \n",
      "LassoLars                            0.01  \n",
      "Lasso                                0.07  \n",
      "RidgeCV                              0.04  \n",
      "BayesianRidge                        0.03  \n",
      "SGDRegressor                         0.02  \n",
      "LarsCV                               0.05  \n",
      "LassoLarsCV                          0.03  \n",
      "LassoCV                              0.16  \n",
      "OrthogonalMatchingPursuitCV          0.02  \n",
      "HuberRegressor                       0.05  \n",
      "PassiveAggressiveRegressor           0.02  \n",
      "ElasticNet                           0.02  \n",
      "DecisionTreeRegressor                0.05  \n",
      "ExtraTreeRegressor                   0.03  \n",
      "AdaBoostRegressor                    0.18  \n",
      "TweedieRegressor                     0.02  \n",
      "GammaRegressor                       0.16  \n",
      "OrthogonalMatchingPursuit            0.02  \n",
      "LinearSVR                            0.02  \n",
      "ElasticNetCV                         0.08  \n",
      "SVR                                  5.42  \n",
      "NuSVR                                3.93  \n",
      "DummyRegressor                       0.01  \n",
      "QuantileRegressor                    3.49  \n",
      "KernelRidge                          7.71  \n",
      "RANSACRegressor                      0.10  \n",
      "GaussianProcessRegressor            22.94  \n"
     ]
    },
    {
     "name": "stderr",
     "output_type": "stream",
     "text": [
      "\n"
     ]
    }
   ],
   "source": [
    "x_train_preprocessor = preprocessor.fit_transform(x_train)\n",
    "x_test_preprocessor = preprocessor.transform(x_test)\n",
    "lazy_reg = LazyRegressor(verbose=0, ignore_warnings=False, custom_metric=None )\n",
    "models, predictions = lazy_reg.fit(x_train_preprocessor, x_test_preprocessor, y_train, y_test)\n",
    "print(predictions)"
   ]
  },
  {
   "cell_type": "code",
   "execution_count": 15,
   "metadata": {},
   "outputs": [],
   "source": [
    "from sklearn.linear_model import PoissonRegressor,LinearRegression\n",
    "from sklearn.tree import DecisionTreeRegressor,ExtraTreeRegressor\n",
    "from sklearn.ensemble import ExtraTreesRegressor,RandomForestRegressor \n",
    "from sklearn.neighbors import KNeighborsRegressor\n",
    "from sklearn.ensemble import GradientBoostingRegressor\n",
    "reg = Pipeline(steps=[\n",
    "    (\"preprocessor\", preprocessor),\n",
    "    (\"regressor\",RandomForestRegressor()),\n",
    "])\n",
    "# reg.fit(x_train, y_train)"
   ]
  },
  {
   "cell_type": "code",
   "execution_count": null,
   "metadata": {},
   "outputs": [],
   "source": [
    "parameters = {\n",
    "    \"regressor__n_estimators\": [50, 100, 200, 500],\n",
    "    \"regressor__criterion\": [\"squared_error\", \"absolute_error\", \"poisson\"],\n",
    "    \"regressor__max_depth\": [None, 5, 10, 20],\n",
    "    \"regressor__max_features\": [\"sqrt\", \"log2\"],\n",
    "    \"preprocessor__num_features__imputer__strategy\": [\"mean\", \"median\"],\n",
    "}\n",
    "model = GridSearchCV(reg, param_grid=parameters, scoring=\"r2\", cv=6, verbose=2, n_jobs=-1)\n",
    "model.fit(x_train, y_train)\n",
    "print(model.best_score_)\n",
    "print(model.best_params_)"
   ]
  },
  {
   "cell_type": "code",
   "execution_count": 41,
   "metadata": {},
   "outputs": [],
   "source": [
    "y_predict = model.predict(x_test)"
   ]
  },
  {
   "cell_type": "code",
   "execution_count": null,
   "metadata": {},
   "outputs": [],
   "source": [
    "accuracy_list = [(i, j, abs(i - j) / i * 100 if i != 0 else 0) for i, j in zip(y_test, y_predict)]\n",
    "\n",
    "accuracy_list_sorted = sorted(accuracy_list, key=lambda x: x[2])\n",
    "\n",
    "for actual, predict, percentage_error in accuracy_list_sorted:\n",
    "    print(\"Actual: {} - Predict: {} - Percentage Error: {:.2f}%\".format(actual, predict, percentage_error))\n",
    "\n"
   ]
  },
  {
   "cell_type": "code",
   "execution_count": null,
   "metadata": {},
   "outputs": [],
   "source": [
    "print(\"MAE {}\".format(mean_absolute_error(y_test, y_predict)))\n",
    "print(\"MSE {}\".format(mean_squared_error(y_test, y_predict)))\n",
    "print(\"R2 {}\".format(r2_score (y_test, y_predict)))"
   ]
  }
 ],
 "metadata": {
  "kernelspec": {
   "display_name": "venvProject",
   "language": "python",
   "name": "python3"
  },
  "language_info": {
   "codemirror_mode": {
    "name": "ipython",
    "version": 3
   },
   "file_extension": ".py",
   "mimetype": "text/x-python",
   "name": "python",
   "nbconvert_exporter": "python",
   "pygments_lexer": "ipython3",
   "version": "3.11.4"
  }
 },
 "nbformat": 4,
 "nbformat_minor": 2
}
