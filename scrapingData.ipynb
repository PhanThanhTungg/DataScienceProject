{
 "cells": [
  {
   "cell_type": "markdown",
   "metadata": {},
   "source": [
    "### crawl links"
   ]
  },
  {
   "cell_type": "code",
   "execution_count": null,
   "metadata": {},
   "outputs": [],
   "source": [
    "import numpy as np\n",
    "from selenium.webdriver.common.by import By\n",
    "import pandas as pd\n",
    "import time\n",
    "import undetected_chromedriver as uc\n",
    "from selenium.webdriver.support import expected_conditions as EC"
   ]
  },
  {
   "cell_type": "code",
   "execution_count": null,
   "metadata": {},
   "outputs": [],
   "source": [
    "\n",
    "links=[]\n",
    "driver = uc.Chrome()\n",
    "driver.get(\"https://www.google.com\")\n",
    "\n",
    "for page in range(300):   \n",
    "    driver.get(\"https://www.nhatot.com/mua-ban-nha-dat-quan-binh-tan-tp-ho-chi-minh?page=\"+ str(page))\n",
    "    elems = driver.find_elements(By.CSS_SELECTOR , \".crd7gu7\")\n",
    "    links += [elem.get_attribute('href') for elem in elems]    \n",
    "driver.quit()\n"
   ]
  },
  {
   "cell_type": "code",
   "execution_count": null,
   "metadata": {},
   "outputs": [],
   "source": [
    "df = pd.DataFrame(links, columns=['links'])"
   ]
  },
  {
   "cell_type": "code",
   "execution_count": null,
   "metadata": {},
   "outputs": [],
   "source": [
    "# Xuất file csv\n",
    "df.to_csv('LinkBinhTanMinh.csv',index=True)\n",
    "print(\"done\")"
   ]
  },
  {
   "cell_type": "markdown",
   "metadata": {},
   "source": [
    "### crawl data from each link"
   ]
  },
  {
   "cell_type": "code",
   "execution_count": null,
   "metadata": {},
   "outputs": [],
   "source": [
    "\n",
    "diaChi,giaM2, phongNgu,\\\n",
    "soTang, phongTam, loai, giayTo,\\\n",
    "huongCuaChinh,chieuNgang,chieuDai,dienTichDat, dienTichSuDung,dienTich,\\\n",
    "tinhTrangNoiThat,dacDiem, gia = ([] for _ in range(16))\n"
   ]
  },
  {
   "cell_type": "code",
   "execution_count": null,
   "metadata": {},
   "outputs": [],
   "source": [
    "frame = pd.read_csv('LinkBinhTanMinh.csv')\n",
    "frame.head(5)"
   ]
  },
  {
   "cell_type": "code",
   "execution_count": null,
   "metadata": {},
   "outputs": [],
   "source": [
    "driver = uc.Chrome()\n",
    "driver.get(\"https://www.google.com\")\n",
    "def checkAppend(var, selector):\n",
    "    try:\n",
    "        var.append(driver.find_element(By.CSS_SELECTOR , selector).text)\n",
    "    except:\n",
    "        var.append(np.nan)\n",
    "def scroll(driver):\n",
    "    try:\n",
    "        element = driver.find_element(By.CSS_SELECTOR, \"#__next > div > div.container > div.ct-detail.adview.styles_adviewVeh__sS7WB > div > div.col-md-8 > div > div:nth-child(3) > div.AdParam_adParamTitle__bU__w\")\n",
    "        driver.execute_script(\"arguments[0].scrollIntoView();\", element)\n",
    "    except:\n",
    "        print(1)\n",
    "def clickSeeMore(driver):\n",
    "    try:\n",
    "        see_more_button = driver.find_element(By.CSS_SELECTOR, \"#__next > div > div.container > div.ct-detail.adview.styles_adviewVeh__sS7WB > div > div.col-md-8 > div > div:nth-child(3) > button:nth-child(5)\")  # Thay thế bằng selector đúng\n",
    "        see_more_button.click()\n",
    "    except:\n",
    "        return\n",
    "for i in range(4500,6000): \n",
    "    driver.get(frame['links'][i])\n",
    "    scroll(driver)\n",
    "    clickSeeMore(driver)\n",
    "    checkAppend(diaChi,\"#__next > div > div.container > div.ct-detail.adview.styles_adviewVeh__sS7WB > div > div.col-md-8 > div > div:nth-child(3) > div.cd9gm5n > div:nth-child(4) > div.sf0dbrp.r9vw5if > span\")  \n",
    "    checkAppend(giaM2,\"strong[itemprop='price_m2']\")\n",
    "    checkAppend(phongNgu,\"strong[itemprop='rooms']\")\n",
    "    checkAppend(dienTich,\"#__next > div > div.container > div.ct-detail.adview.styles_adviewVeh__sS7WB > div > div.col-md-8 > div > div:nth-child(3) > div.cd9gm5n > div.plmkxo3 > div.r9vw5if > div > span:nth-child(5) > strong\")\n",
    "    checkAppend(soTang,\"strong[itemprop='floors']\")\n",
    "    checkAppend(phongTam, \"strong[itemprop='toilets']\")\n",
    "    checkAppend(loai,\"strong[itemprop='house_type']\")\n",
    "    checkAppend(giayTo, \"strong[itemprop='property_legal_document']\")\n",
    "    checkAppend(tinhTrangNoiThat,\"strong[itemprop='furnishing_sell']\")\n",
    "    checkAppend(chieuNgang,\"strong[itemprop='width']\")\n",
    "    checkAppend(chieuDai,\"strong[itemprop='length']\")\n",
    "    checkAppend(dienTichDat,\"strong[itemprop='size']\")\n",
    "    checkAppend(dienTichSuDung,\"strong[itemprop='living_size']\")\n",
    "    checkAppend(huongCuaChinh, \"strong[itemprop='direction']\")\n",
    "    checkAppend(dacDiem, \"strong[itemprop='pty_characteristics']\")\n",
    "    checkAppend(gia,'#__next > div > div.container > div.ct-detail.adview.styles_adviewVeh__sS7WB > div > div.col-md-8 > div > div:nth-child(3) > div.cd9gm5n > div.plmkxo3 > div.r9vw5if > div > b')"
   ]
  },
  {
   "cell_type": "code",
   "execution_count": null,
   "metadata": {},
   "outputs": [],
   "source": [
    "df = {\n",
    "      'DiaChi' : diaChi,\n",
    "      'chieuDai':chieuDai,\n",
    "      'chieuNgang':chieuNgang,\n",
    "      'dienTich':dienTich,\n",
    "      'dienTichDat':dienTichDat,\n",
    "      'dienTichSuDung':dienTichSuDung,\n",
    "      'Gia/m2'   : giaM2,\n",
    "      'Phongngu': phongNgu,\n",
    "      'SoTang': soTang,\n",
    "      'PhongTam':phongTam,\n",
    "      'Loai': loai,\n",
    "      'GiayTo': giayTo,\n",
    "      'dacDiem':dacDiem,\n",
    "      'huongCuaChinh':huongCuaChinh,\n",
    "      'TinhTrangNoiThat': tinhTrangNoiThat,\n",
    "      'Gia': gia,\n",
    "}\n",
    "df = pd.DataFrame(df)\n",
    "df.to_csv('dataBinhTanQuangTung.csv',encoding=\"utf-8-sig\",index=False)\n",
    "df"
   ]
  }
 ],
 "metadata": {
  "kernelspec": {
   "display_name": "venvProject",
   "language": "python",
   "name": "python3"
  },
  "language_info": {
   "codemirror_mode": {
    "name": "ipython",
    "version": 3
   },
   "file_extension": ".py",
   "mimetype": "text/x-python",
   "name": "python",
   "nbconvert_exporter": "python",
   "pygments_lexer": "ipython3",
   "version": "3.11.4"
  }
 },
 "nbformat": 4,
 "nbformat_minor": 2
}
