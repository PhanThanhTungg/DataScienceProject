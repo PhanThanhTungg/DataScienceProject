{
 "cells": [
  {
   "cell_type": "code",
   "execution_count": 1,
   "metadata": {},
   "outputs": [
    {
     "name": "stdout",
     "output_type": "stream",
     "text": [
      "CSV files merged into rawData1.csv\n"
     ]
    }
   ],
   "source": [
    "import os\n",
    "import pandas as pd\n",
    "\n",
    "def merge_csv_in_folder(folder_path, output_file):\n",
    "    # Tạo danh sách để lưu các DataFrame\n",
    "    all_dataframes = []\n",
    "    \n",
    "    # Duyệt qua tất cả các file trong thư mục\n",
    "    for filename in os.listdir(folder_path):\n",
    "        # Chỉ xử lý các file có đuôi .csv\n",
    "        if filename.endswith(\".csv\"):\n",
    "            file_path = os.path.join(folder_path, filename)\n",
    "            # Đọc file CSV và thêm vào danh sách DataFrame\n",
    "            df = pd.read_csv(file_path)\n",
    "            all_dataframes.append(df)\n",
    "    \n",
    "    # Gộp tất cả các DataFrame lại với nhau\n",
    "    combined_df = pd.concat(all_dataframes, ignore_index=True)\n",
    "    \n",
    "    # Lưu DataFrame đã gộp thành file CSV mới\n",
    "    combined_df.to_csv(output_file, index=False)\n",
    "    print(f\"CSV files merged into {output_file}\")\n",
    "\n",
    "# Gọi hàm và truyền vào đường dẫn thư mục và tên file xuất ra\n",
    "merge_csv_in_folder('rawData', 'rawData1.csv')\n"
   ]
  }
 ],
 "metadata": {
  "kernelspec": {
   "display_name": "venvProject",
   "language": "python",
   "name": "python3"
  },
  "language_info": {
   "codemirror_mode": {
    "name": "ipython",
    "version": 3
   },
   "file_extension": ".py",
   "mimetype": "text/x-python",
   "name": "python",
   "nbconvert_exporter": "python",
   "pygments_lexer": "ipython3",
   "version": "3.11.4"
  }
 },
 "nbformat": 4,
 "nbformat_minor": 2
}
